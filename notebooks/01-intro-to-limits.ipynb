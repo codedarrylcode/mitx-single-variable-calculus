{
 "cells": [
  {
   "cell_type": "markdown",
   "metadata": {},
   "source": [
    "# Intro to Limits\n",
    "\n",
    "<hr>"
   ]
  },
  {
   "cell_type": "markdown",
   "metadata": {},
   "source": [
    "**'Moving Closer'**<br>\n",
    "\n",
    "Suppose a function, $f(x) = \\frac{\\sqrt{3-5x+x^2+x^3}}{x-1}$, as $x \\rightarrow 1$, does $f(x)$ move closer to something?\n",
    "\n",
    "<img alt=\"Moving Closer\" src=\"assets/moving_closer.png\" width=\"300\">\n",
    "\n",
    "Here, we observe that as $x \\rightarrow 1^{-}$ (approaching from the negative side of 1), $f(x) \\rightarrow -2$\n",
    "\n",
    "The direction of approach matters as we observe that as $x \\rightarrow 1^{+}$ then $f(x) \\rightarrow +2$\n",
    "\n",
    "This can be represented with the following notation: $\\lim\\limits_{x \\to 1^{+}} f(x) = +2$\n",
    "\n",
    "<img alt=\"One-sided limit\" src=\"assets/one_sided_limit.png\" width=\"300\">\n",
    "\n",
    "<hr>\n",
    "\n",
    "**Definition of right-hand/left-hand limits**\n",
    "\n",
    "Suppose $f(x)$ gets really close to $R$ for vlaues of $x$ that get really close to (but are not equal to) $a$ from the right. Then we say $R$ is the right-hand limit of the function $f(x)$ as $x$ approaches $a$ from the right.\n",
    "\n",
    "This can be denoted as: $f(x) \\to R$ as $x \\to a^+$\n",
    "\n",
    "or\n",
    "\n",
    "$\\lim\\limits_{x \\to a^+} f(x) = R$\n",
    "\n",
    "<img alt=\"Right, Left-hand limits\" src=\"assets/right_left_limits.png\" width=\"300\">\n",
    "\n",
    "Conversely, for the other direction, we can denote it as: $f(x) \\to L$ as $x \\to a^-$\n",
    "\n",
    "or\n",
    "\n",
    "$\\lim\\limits_{x \\to a^-} f(x) = L$\n",
    "\n",
    "In general, here are a few possible limit behaviors:\n",
    "\n",
    "- The right-hand and left-hand limits may both exist and be equal\n",
    "- The right-hand and left-hand limits may both exist, but may fail to be equal\n",
    "- A right and/or left-hand limit could fail to exist due to blowing up to $\\pm \\infty$\n",
    "- A right and/or left-hand limit could fail to exist because it oscillates between many values and never settles down. For example, a $\\sin$ function\n",
    "\n",
    "****\n",
    "\n",
    "**Limits of multiple functions**\n",
    "\n",
    "Given two functions, $f(x)$ and $g(x)$, the limit of the sum of the two functions is the sum of each of its marginal limits, i.e.\n",
    "\n",
    "$\\lim\\limits_{x \\to a} f(x) = L$\n",
    "\n",
    "$\\lim\\limits_{x \\to a} g(x) = M$\n",
    "\n",
    "$\\lim\\limits_{x \\to a} [f(x) + g(x)] = L + M$\n",
    "\n",
    "This is called the limit law for addition. \n",
    "\n",
    "Also works with one-sided limits, subtraction and multiplication of functions similarly. \n",
    "\n",
    "Also applies to division, $\\lim\\limits_{x \\to a} \\frac{f(x)}{g(x)} = \\frac{L}{M}$ if and only if $M \\neq 0$\n",
    "\n",
    "****\n",
    "\n",
    "**Continuity**\n",
    "\n",
    "We say that a function $f$ is continuous at $x = a$ if:\n",
    "\n",
    "$\\lim\\limits_{x \\to a} f(x) = f(a)$\n",
    "\n",
    "In particular, if either $f(a)$ or $\\lim\\limits_{x \\to a} f(x)$ fails to exist, then $f$ is discontinuous at $a$.\n",
    "\n",
    "If the left-hand limit and the right hand limit exists *but are not equal* then we say that $f$ has a **jump discontinuity** at $x = a$.\n",
    "\n",
    "<img alt=\"Jump Discontinuity\" src=\"assets/jump_discontinuity.png\" width=\"300\">\n",
    "\n",
    "If the left-hand limit and the right hand limit exists and are equal but the overall limit does not equal $f(a)$ then we say that $f$ has a **removable discontinuity** at $x = a$.\n",
    "\n",
    "<img alt=\"Removable Discontinuity\" src=\"assets/removable_discontinuity.png\" width=\"300\">\n",
    "\n",
    "If $f$ is continuous at every point, $c$, in the domain of $f(x)$ then the function $f$ is continuous everywhere.\n",
    "\n",
    "If two functions, $f$ and $g$, are continuous everywhere then these operations will result in continuous functions:\n",
    "\n",
    "- $f + g$\n",
    "- $f - g$\n",
    "- $\\frac{f}{g}$\n",
    "- $f \\circ g$\n",
    "\n",
    "Suppose a function, $h(x) = f(g(x))$, with $f$ and $g$ both continuous functions then as $x \\to a$ then:\n",
    "\n",
    "- $g(x) \\to g(a)$\n",
    "- $f(g(x)) \\to f(g(a))$\n",
    "- $\\therefore h(x) \\to h(a)$\n",
    "\n",
    "Then $h$ is also continuous at $a$!\n",
    "\n",
    "In general, the following functions are continuous at all real numbers:\n",
    "\n",
    "- all polynomials\n",
    "- $\\sqrt[3]{x}$\n",
    "- $\\vert x \\vert$\n",
    "- $\\cos x$ and $\\sin x$\n",
    "- exponential functions, $a^x$ with base $a > 0$\n",
    "\n",
    "****\n",
    "\n",
    "**Intermediate Value Theorem (IVT)**\n",
    "\n",
    "Given two points from a continuous function, $f$, and a value $M$ is between $f(a)$ and $f(b)$ then there is at least one point $c$ between $a$ and $b$ such that $f(c) = M$, i.e. the function will intersect the line where $f(c) = M$\n",
    "\n",
    "This theorem suggests that if a function is continuous between two local points $a$ and $b$ then it tells us the global behaviour that the function will intersect the line $M$.\n",
    "\n",
    "\n",
    "<hr>"
   ]
  },
  {
   "cell_type": "markdown",
   "metadata": {},
   "source": [
    "# Basic code\n",
    "A `minimal, reproducible example`"
   ]
  },
  {
   "cell_type": "code",
   "execution_count": 15,
   "metadata": {},
   "outputs": [
    {
     "data": {
      "text/plain": [
       "2.0012496096179477"
      ]
     },
     "execution_count": 15,
     "metadata": {},
     "output_type": "execute_result"
    }
   ],
   "source": [
    "# Moving Closer\n",
    "# As x moves closer to 1 from the right, what does f(x) approach?\n",
    "import numpy as np\n",
    "\n",
    "def f(x):\n",
    "    output = np.sqrt(3-5*x + x**2 + x**3) / (x-1)\n",
    "    return output\n",
    "\n",
    "x_array = np.linspace(start = 2, stop = 1, num = 200, endpoint = False)\n",
    "f(x_array)[-1]"
   ]
  },
  {
   "cell_type": "code",
   "execution_count": 20,
   "metadata": {},
   "outputs": [
    {
     "data": {
      "text/plain": [
       "0.4999833332222211"
      ]
     },
     "execution_count": 20,
     "metadata": {},
     "output_type": "execute_result"
    }
   ],
   "source": [
    "# Second function trial\n",
    "def g(x):\n",
    "    output = x / np.tan(2*x)\n",
    "    return output\n",
    "\n",
    "x_array = np.linspace(start = -1, stop = 0, num = 200, endpoint = False)\n",
    "g(x_array[-1])"
   ]
  },
  {
   "cell_type": "code",
   "execution_count": 25,
   "metadata": {},
   "outputs": [
    {
     "data": {
      "text/plain": [
       "array([ 79.99583346,  99.99666673, 133.33083336, 199.99833334,\n",
       "       399.99916667])"
      ]
     },
     "execution_count": 25,
     "metadata": {},
     "output_type": "execute_result"
    }
   ],
   "source": [
    "# Third function trial\n",
    "def h(x):\n",
    "    output = (np.abs(x) + np.sin(x)) / x**2\n",
    "    return output\n",
    "\n",
    "x_array = np.linspace(start = 1, stop = 0, num = 200, endpoint = False)\n",
    "h(x_array)[-5:]"
   ]
  },
  {
   "cell_type": "code",
   "execution_count": 27,
   "metadata": {},
   "outputs": [
    {
     "data": {
      "text/plain": [
       "array([ 0.42016704,  0.4785091 ,  0.53536727,  0.59043598,  0.64340315,\n",
       "        0.69395153,  0.74176028,  0.78650667,  0.82786799,  0.86552361,\n",
       "        0.89915723,  0.92845931,  0.95312964,  0.97288018,  0.98743794,\n",
       "        0.99654811,  0.99997734,  0.99751708,  0.98898712,  0.97423917,\n",
       "        0.95316056,  0.92567791,  0.89176085,  0.85142574,  0.80473919,\n",
       "        0.75182161,  0.6928504 ,  0.62806302,  0.5577597 ,  0.48230572,\n",
       "        0.40213327,  0.31774272,  0.22970327,  0.13865285,  0.04529716,\n",
       "       -0.04959214, -0.14518037, -0.24057381, -0.33482495, -0.42693901,\n",
       "       -0.51588185, -0.60058934, -0.67997822, -0.75295847, -0.81844725,\n",
       "       -0.87538434, -0.92274905, -0.95957852, -0.98498721, -0.99818753,\n",
       "       -0.99851122, -0.98543128, -0.95858406, -0.91779108, -0.86308014,\n",
       "       -0.79470501, -0.71316322, -0.61921119, -0.51387588, -0.39846223,\n",
       "       -0.27455544, -0.1440174 , -0.00897609,  0.12819254,  0.26489125,\n",
       "        0.39833724,  0.52560759,  0.64369458,  0.74957103,  0.84026528,\n",
       "        0.91294525,  0.96501035,  0.99418958,  0.99864369,  0.97706839,\n",
       "        0.92879523,  0.85388599,  0.75321566,  0.62853885,  0.48253379,\n",
       "        0.31881777,  0.14192822, -0.04273671, -0.22902277, -0.41017371,\n",
       "       -0.57903703, -0.72832132, -0.85090254, -0.9401728 , -0.99042123,\n",
       "       -0.9972322 , -0.95788106, -0.87170312, -0.74040709, -0.56830084,\n",
       "       -0.36239517, -0.13235175,  0.10975566,  0.3498911 ,  0.57273059,\n",
       "        0.76255845,  0.90436313,  0.98508564,  0.99494548,  0.92874037,\n",
       "        0.78698867,  0.576762  ,  0.31204489,  0.01346391, -0.29274341,\n",
       "       -0.57659501, -0.80705605, -0.95543229, -0.99920301, -0.92588387,\n",
       "       -0.73637128, -0.44712234, -0.09050133,  0.28728442,  0.63099794,\n",
       "        0.88387042,  0.997164  ,  0.94052958,  0.71125742,  0.34007145,\n",
       "       -0.10893089, -0.54602821, -0.87182658, -0.99985201, -0.8816718 ,\n",
       "       -0.52800926, -0.01795146,  0.51085776,  0.89429728,  0.99231798,\n",
       "        0.74511316,  0.21403565, -0.416086  , -0.88882717, -0.97772762,\n",
       "       -0.60436119,  0.08539533,  0.74816294,  0.99814363,  0.64062994,\n",
       "       -0.14828855, -0.85432896, -0.93521957, -0.26237485,  0.65554923,\n",
       "        0.98662759,  0.33899705, -0.68862533, -0.94232787, -0.02692538,\n",
       "        0.94219096,  0.56410698, -0.69961309, -0.79987755,  0.55034808,\n",
       "        0.82682868, -0.63901801, -0.63960611,  0.9148886 ,  0.03440202,\n",
       "       -0.8968117 ,  0.87833333, -0.24552618, -0.41815111,  0.81459691,\n",
       "       -0.96300176,  0.99283474, -0.98381511,  0.88804531, -0.50636564,\n",
       "       -0.3216224 ,  0.99866833, -0.05383124, -0.9315682 , -0.96011419,\n",
       "       -0.93010595, -0.98333404, -0.06876332,  0.83977222, -0.75967811,\n",
       "       -0.51904851, -0.35257291, -0.8732973 ,  0.1030432 , -0.67737421,\n",
       "        0.6832397 , -0.1372011 , -0.98803627,  0.65986442, -0.20498939,\n",
       "       -0.99779528,  0.3047532 , -0.40127254, -0.58051301, -0.94536656])"
      ]
     },
     "execution_count": 27,
     "metadata": {},
     "output_type": "execute_result"
    }
   ],
   "source": [
    "# Fourth function trial\n",
    "def j(x):\n",
    "    output = np.sin(13/x)\n",
    "    return output\n",
    "\n",
    "x_array = np.linspace(start = 1, stop = 0, num = 200, endpoint = False)\n",
    "j(x_array)[:]"
   ]
  }
 ],
 "metadata": {
  "kernelspec": {
   "display_name": "Python 3",
   "language": "python",
   "name": "python3"
  },
  "language_info": {
   "codemirror_mode": {
    "name": "ipython",
    "version": 3
   },
   "file_extension": ".py",
   "mimetype": "text/x-python",
   "name": "python",
   "nbconvert_exporter": "python",
   "pygments_lexer": "ipython3",
   "version": "3.8.8"
  },
  "toc": {
   "base_numbering": 1,
   "nav_menu": {},
   "number_sections": true,
   "sideBar": true,
   "skip_h1_title": false,
   "title_cell": "Table of Contents",
   "title_sidebar": "Contents",
   "toc_cell": false,
   "toc_position": {},
   "toc_section_display": true,
   "toc_window_display": false
  }
 },
 "nbformat": 4,
 "nbformat_minor": 2
}
