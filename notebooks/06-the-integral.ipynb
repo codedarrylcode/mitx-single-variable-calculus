{
 "cells": [
  {
   "cell_type": "markdown",
   "metadata": {},
   "source": [
    "# The integral\n",
    "\n",
    "<hr>"
   ]
  },
  {
   "cell_type": "markdown",
   "metadata": {},
   "source": [
    "## Mean Value Theorem (MVT)\n",
    "\n",
    "Recall that the **average rate of change** of a function $x(t)$ over an interval $[a, b]$ is:\n",
    "\n",
    "$\\text{Average rate of change} = \\frac{x(b) - x(a)}{b-a} = \\frac{\\text{Rise}}{\\text{Run}}$\n",
    "\n",
    "Similarly we can represent the average rate of change geometrically by the slope of the secant line through the points $(a, x(a)), (b, x(b))$\n",
    "\n",
    "<img alt=\"Secant Line\" src=\"assets/secant_line_rate_of_change.png\" width=\"300\">\n",
    "\n",
    "In contrast, the **instantaneous rate of change** of a function $x(t)$ is the derivative:\n",
    "\n",
    "$x'(t) = \\lim\\limits_{\\Delta t \\to 0} \\frac{x(t+\\Delta t) - x(t)}{\\Delta t}$\n",
    "\n",
    "which is also geometrically represented by the slope of the tangent line through the point $(t, x(t))$\n",
    "\n",
    "****\n",
    "\n",
    "**Definition**\n",
    "\n",
    "The **Mean Value Theorem** states that there is a point $c$, such that $a < c < b$, at which the tangent line is parallel to the secant line, i.e. the slope of both lines equal. This is true if $x(t)$ is continuous on the closed interval $[a, b]$ and differentiable on the open interval $(a, b)$. \n",
    "\n",
    "We can represent this mathetmatically as follows:\n",
    "\n",
    "$\\frac{x(b) - x(a)}{b - a} = x'(c)$\n",
    "\n",
    "where the $\\text{LHS}$ computes the average rate of change between the interval $[a, b]$ and the $\\text{RHS}$ computes the instantaneous rate of change at point $c$.\n",
    "\n",
    "*Applying the mean value theorem*\n",
    "\n",
    "Suppose $f$ is a continuous, differentiable function. If $f'$ is never zero and $a \\neq b$, then show $f(a) \\neq f(b)$.\n",
    "\n",
    "$\\frac{f(b)-f(a)}{b-a} = f'(c)$ for $a < c < b$ and we want to prove $f(b) - f(a)$ is never zero\n",
    "\n",
    "$f(b) - f(a) = f'(c) \\cdot (b-a)$\n",
    "\n",
    "Since $f'$ and $b - a$ are non-zero then the product of $f'(c) \\cdot (b-a)$ is non-zero and proves that $f(b) - f(a)$ is non-zero as well\n",
    "\n",
    "****\n",
    "\n",
    "**Bounds, derivatives and MVT**\n",
    "\n",
    "Recall that a function $f(x)$ is increasing if whenever $a < b$ then $f(a) < f(b)$ and decreasing if vice versa.\n",
    "\n",
    "- If $x'(t) \\geq 0$ for all $t \\in (a, b)$, then $x(t)$ is increasing or staying the same over the closed interval, $[a, b]$\n",
    "\n",
    "- If $x'(t) \\leq 0$ for all $t \\in (a, b)$, then $x(t)$ is decreasing or staying the same over the closed interval, $[a, b]$\n",
    "\n",
    "- If $x'(t) = 0$ for all $t \\in (a, b)$, then $x(t)$ is constant over the closed interval, $[a, b]$\n",
    "\n",
    "And the MVT gives the following consequences with strict inequalities as well:\n",
    "\n",
    "- If $x'(t) > 0$ for all $t \\in (a, b)$, then $x(t)$ is strictly increasing over the closed interval, $[a, b]$\n",
    "\n",
    "- If $x'(t) < 0$ for all $t \\in (a, b)$, then $x(t)$ is strictly decreasing over the closed interval, $[a, b]$\n",
    "\n",
    "*Example*\n",
    "\n",
    "Prove $e^x > 1 + x + \\frac{x^2}{2}$\n",
    "\n",
    "$g(x) = e^x - (1 + x + \\frac{x^2}{2})$\n",
    "\n",
    "$g(0) = 1 - (1) = 0$\n",
    "\n",
    "$g'(x) = e^x - (1+x) > 0$ for all $x > 0$\n",
    "\n",
    "****\n",
    "\n",
    "**Bounding the average rate of change**\n",
    "\n",
    "In general, the MVT says that the average rate of change is equal to the instantaneous rate of change at some point $c$ which means that this is no larger than the maximum rate of change over the closed-interval, such that:\n",
    "\n",
    "$\\frac{x(b)-x(a)}{b-a} = x'(c) \\leq \\max x' \\leq M$ such that $M$ is the upper bound on the derivative. This is also true with the lower bound, such that:\n",
    "\n",
    "$m \\leq x'(c) \\leq M$ for all $c$ over the interval $(a, b)$ where $m$ is the lower bound on the derivative $x'(c)$\n",
    "\n",
    "Then the MVT implies that:\n",
    "\n",
    "$m \\leq \\frac{x(b)-x(a)}{b-a} \\leq M$\n",
    "\n",
    "In other words, a lower bound on the derivative is also a lower bound on the average rate of change and similarly for the upper bound.\n",
    "\n",
    "Since $(b-a) > 0$, multiplying the inequality on both sides will not change the inequality signs and we get the following inequality of the total change of the function:\n",
    "\n",
    "$m \\cdot (b-a) \\leq x(b)-x(a) \\leq M \\cdot (b-a)$\n",
    "\n",
    "In other words, the total change of the function from $a \\to b$ is greater than or equal to any lower bound $m$ on the derivative on the interval $(a, b)$, times the length of the interval, $(b-a)$ and it is also less than or equal to any upper bound $M$ times $(b-a)$.\n",
    "\n",
    "Sometimes we know the maximum and minimum values of $x'(t)$ and in this case we can use the lowest upper bound on the derivative and the greatest lower bound on $x'(t)$ and obtain the following inequality for the average rate of change:\n",
    "\n",
    "$\\displaystyle \\min _{a \\leq t \\leq b} x'(t) \\cdot (b-a) \\leq x(b)-x(a) \\leq \\displaystyle  \\max _{a\\leq t \\leq b} x'(t) \\cdot (b-a)$\n",
    "\n",
    "Moreover, the maximum and minimum on $x'(t)$ are the best bounds on $x'(t)$:\n",
    "\n",
    "$m \\leq \\displaystyle \\min _{a \\leq t \\leq b} x'(t) \\leq x'(t) \\leq \\max _{a\\leq t \\leq b} x'(t) \\leq M$\n",
    "\n",
    "The MVT then gives us this in the full form:\n",
    "\n",
    "$m \\cdot (b-a) \\leq \\displaystyle \\min _{a \\leq t \\leq b} x'(t) \\cdot (b-a) \\leq x(b) - x(a) \\leq \\max _{a\\leq t \\leq b} x'(t) \\cdot (b-a) \\leq M \\cdot (b-a)$\n",
    "\n",
    "****\n",
    "\n",
    "**MVT's relationship with linear approximation**\n",
    "\n",
    "$\\frac{\\Delta f}{\\Delta x} \\approx f'(a)$ for $b$ near $a$ and $\\Delta x = b-a$ (linear approximation)\n",
    "\n",
    "$\\frac{\\Delta f}{\\Delta x} = f'(c)$ for some $c$ between $a$ and $b$ (MVT)\n",
    "\n",
    "<img alt=\"Linear Approximation vs MVT\" src=\"assets/linear_approx_vs_MVT.png\" width=\"500\">\n",
    "\n",
    "****\n",
    "\n",
    "## Differentials & antiderivatives\n",
    "\n",
    "\n",
    "\n",
    "****"
   ]
  },
  {
   "cell_type": "markdown",
   "metadata": {},
   "source": [
    "# Basic code\n",
    "A `minimal, reproducible example`"
   ]
  },
  {
   "cell_type": "code",
   "execution_count": 7,
   "metadata": {},
   "outputs": [
    {
     "data": {
      "text/plain": [
       "-2.3025850929940455"
      ]
     },
     "execution_count": 7,
     "metadata": {},
     "output_type": "execute_result"
    }
   ],
   "source": [
    "np.log(0.1)"
   ]
  }
 ],
 "metadata": {
  "kernelspec": {
   "display_name": "Python 3",
   "language": "python",
   "name": "python3"
  },
  "language_info": {
   "codemirror_mode": {
    "name": "ipython",
    "version": 3
   },
   "file_extension": ".py",
   "mimetype": "text/x-python",
   "name": "python",
   "nbconvert_exporter": "python",
   "pygments_lexer": "ipython3",
   "version": "3.8.8"
  },
  "toc": {
   "base_numbering": 1,
   "nav_menu": {},
   "number_sections": true,
   "sideBar": true,
   "skip_h1_title": false,
   "title_cell": "Table of Contents",
   "title_sidebar": "Contents",
   "toc_cell": false,
   "toc_position": {},
   "toc_section_display": true,
   "toc_window_display": false
  }
 },
 "nbformat": 4,
 "nbformat_minor": 2
}
