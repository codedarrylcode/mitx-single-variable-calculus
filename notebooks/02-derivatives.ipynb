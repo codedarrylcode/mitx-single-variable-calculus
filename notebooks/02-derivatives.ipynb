{
 "cells": [
  {
   "cell_type": "markdown",
   "metadata": {},
   "source": [
    "# Derivatives\n",
    "\n",
    "*Geometric interpretation, functions, calculations, Leibniz notation, second derivatives*\n",
    "\n",
    "<hr>"
   ]
  },
  {
   "cell_type": "markdown",
   "metadata": {},
   "source": [
    "**What is the derivative?**<br>\n",
    "\n",
    "The derivative of a function $f(x)$ at a point $x = a$ is defined to be:\n",
    "\n",
    "$\\displaystyle f'(a) = \\lim _{b\\rightarrow a} \\frac{f(b) - f(a)}{b-a}$\n",
    "\n",
    "The derivative measures the instantaneous rate of change $f$ at the point $a$ by taking the limit of $a$ where $b$ approaches $a$\n",
    "\n",
    "For example, let's compute the average velocity between 8:00 and time $b$ and see how that compares with the instantaneous velocity at 8:00 exactly.\n",
    "\n",
    "Average velocity, between 8:00 and time $b$ = $\\frac{f(b) - f(8)}{b-8}$\n",
    "\n",
    "By using the average velocity, it is an approximation of the instantaneous velocity at the point 8:00. \n",
    "\n",
    "Our solution is take the limit as $b$ approaches 8:00, i.e. take the limit.\n",
    "\n",
    "Instantaneous Velocity, at 8:00 = $\\lim \\limits_{b \\to 8} \\frac{f(b) - f(8)}{b-8}$\n",
    "\n",
    "This tells us the value of the function as $b$ approaches 8:00. This is also referred to as the derivative of $f(x)$ at $x = a$\n",
    "\n",
    "Suppose we have a function, $f(t) = 100 + 20t - 5t^2$, evaluate the instantaneous velocity at $t = 1$.\n",
    "\n",
    "$f'(1) = \\lim \\limits_{b\\to1}\\frac{f(b)-f(1)}{b-1}$\n",
    "\n",
    "$= \\lim \\limits_{b\\to1}\\frac{(100+20b-5b^2)-115}{b-1}$\n",
    "\n",
    "$= \\lim \\limits_{b\\to1}\\frac{-5b^2+20b-15}{b-1}$\n",
    "\n",
    "$= \\lim \\limits_{b\\to1}\\frac{-5(b^2-4b+3)}{b-1}$\n",
    "\n",
    "$= \\lim \\limits_{b\\to1}\\frac{-5(b-1)(b-3)}{b-1}$\n",
    "\n",
    "$= \\lim \\limits_{b\\to1} -5(b-3)$\n",
    "\n",
    "$= 10$\n",
    "\n",
    "<hr>\n",
    "\n",
    "**Geometric interpretation of derivatives**\n",
    "\n",
    "As above, the derivative measures the instantaneous rate of change of a given function, $f$, a physical interpretation.\n",
    "\n",
    "Similarly, we can also interpret the derivative from a geometric standpoint, i.e. the slope of the tangent line at that point.\n",
    "\n",
    "*What are tangent lines?*\n",
    "\n",
    "Intuition\n",
    "\n",
    "<hr>"
   ]
  },
  {
   "cell_type": "markdown",
   "metadata": {},
   "source": [
    "# Basic code\n",
    "A `minimal, reproducible example`"
   ]
  },
  {
   "cell_type": "code",
   "execution_count": null,
   "metadata": {
    "ExecuteTime": {
     "end_time": "2021-12-31T08:35:19.756176Z",
     "start_time": "2021-12-31T08:35:19.749654Z"
    }
   },
   "outputs": [],
   "source": []
  }
 ],
 "metadata": {
  "kernelspec": {
   "display_name": "Python 3",
   "language": "python",
   "name": "python3"
  },
  "language_info": {
   "codemirror_mode": {
    "name": "ipython",
    "version": 3
   },
   "file_extension": ".py",
   "mimetype": "text/x-python",
   "name": "python",
   "nbconvert_exporter": "python",
   "pygments_lexer": "ipython3",
   "version": "3.7.4"
  },
  "toc": {
   "base_numbering": 1,
   "nav_menu": {},
   "number_sections": true,
   "sideBar": true,
   "skip_h1_title": false,
   "title_cell": "Table of Contents",
   "title_sidebar": "Contents",
   "toc_cell": false,
   "toc_position": {},
   "toc_section_display": true,
   "toc_window_display": false
  }
 },
 "nbformat": 4,
 "nbformat_minor": 2
}
