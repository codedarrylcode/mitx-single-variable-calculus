{
 "cells": [
  {
   "cell_type": "markdown",
   "metadata": {},
   "source": [
    "# Applications\n",
    "\n",
    "<hr>"
   ]
  },
  {
   "cell_type": "markdown",
   "metadata": {},
   "source": [
    "## Graphing and the derivative\n",
    "\n",
    "The critical points of a function $f(x)$ to be all points $x$ in the domain of $f(x)$ such that:\n",
    "\n",
    "- $f'(x) = 0$, or\n",
    "- $f'(x)$ does not exist\n",
    "\n",
    "where every local extremum must be a critical point. However, not every critical point is a local extremum.\n",
    "\n",
    "If the derivative of a function is positive between two critical points then the derivative is positive everywhere between the two points. Given multiple critical points, we can do interval sampling to evaluate derivatives with values between the critical points to determine the sign of the derivative.\n",
    "\n",
    "<img alt=\"Interval Sampling\" src=\"assets/interval_sampling.png\" width=\"400\">\n",
    "\n",
    "****\n",
    "\n",
    "**The First Derivative Test**\n",
    "\n",
    "Suppose if $f$ has a critical point at $x = a$ and is continuous at $x = a$ then:\n",
    "\n",
    "- if $f' < 0$ to the left of $a$ & $f' > 0$ to the right of $a$ then it is a local **minimum**\n",
    "- if $f' > 0$ to the left of $a$ & $f' < 0$ to the right of $a$ then it is a local **maxima**\n",
    "- if $f'$ has the same sign in the both left or right of $a$ then it is **not a local maxima/minima**\n",
    "\n",
    "<img alt=\"First Derivative Test\" src=\"assets/first_derivative_test.png\" width=\"600\">\n",
    "\n",
    "****\n",
    "\n",
    "**The Second Derivative Test**\n",
    "\n",
    "Suppose $f'(a) = 0$, then:\n",
    "\n",
    "- If $f''(a) < 0$ then $a$ is concave down and is a local maximum\n",
    "- If $f''(a) > 0$ then $a$ is concave up and is a local minima\n",
    "- If $f''(a) = 0$ then the test is inconclusive as there might be a local maximum or a local minima or neither\n",
    "\n",
    "$\\therefore$ The first derivative test requires a bit more data by testing values that are slightly to the left and right but is often able to provide more information as a result\n",
    "\n",
    "*What happens when $f''(a) = 0$*\n",
    "\n",
    "An inflection point is a point where the concavity of the function changes. That is the second derivative, $f''$ changes sign. We cannot simply conclude that $f'(x)' = 0$ is an inflection point at $x$ but will have to ascertain that the second derivative changes sign.\n",
    "\n",
    "*Example*\n",
    "\n",
    "$f''(x) = 12x^4 - 3x^2$\n",
    "\n",
    "This always exists and is zero when $x = 0, \\pm0.5$ but if we run interval sampling on $f''$ then we find that there are only inflection points at $\\pm 0.5$ where the sign changes.\n",
    "\n",
    "<img alt=\"Graphing Derivatives\" src=\"assets/graphing_derivatives.png\" width=\"400\">\n",
    "\n",
    "**The Third Derivative Test**\n",
    "\n",
    "Suppose at a critical point $x = a$ where $f'(a) = f''(a) = 0$ and $f'''(a) > 0$ then we know that:\n",
    "\n",
    "- $f''(x) > 0$ just right to $a$\n",
    "- $f''(x) < 0$ just left to $a$\n",
    "\n",
    "where $f''(x) = 0$ at $a$\n",
    "\n",
    "This is because $f'''(a) > 0$ tells us that the second derivative is increasing and passes through/changes sign at $a$.\n",
    "\n",
    "Given this behavior of $f''(a)$ then we know that $f'(a)$ is positive and decreasing just left to $a$, arrives at 0 and then $f'(a)$ is positive and increasing just right to $a$\n",
    "\n",
    "$\\therefore f'(a)$ did not change sign and $f(a)$ is neither a local maximum or minima\n",
    "\n",
    "****\n",
    "\n",
    "## Limits and asymptotics\n",
    "\n",
    "The limits of a function as it goes to $\\infty$ is the asymptotic behavior of a function.\n",
    "\n",
    "The general strategy for sketching the qualitative behavior of a function:\n",
    "\n",
    "1. Plot\n",
    "    - discontinuities (points where the function does not exist)\n",
    "    - end points (or $x \\to \\pm \\infty$)\n",
    "    - easy points ($x = 0$, $y = 0$)\n",
    "\n",
    "\n",
    "2. Plot critical points and values where $f'(x) = 0$ or undefined\n",
    "\n",
    "3. Decide whether $f' < 0$ or $f' > 0$ on each interval between endpoints, critical points and discontinuities\n",
    "\n",
    "4. Identify where $f''< 0$ (concave down) and $f'' > 0$ (concave up)\n",
    "\n",
    "5. Combine information and graph accordingly\n",
    "\n",
    "\n",
    "*Example - Check the asymptote values, $y = \\frac{2x^2 + 1}{x^2-1}$*\n",
    "\n",
    "$\\frac{2x^2+1}{x^2-1} = \\frac{x+1/x^2}{1-1/x^2} \\underset {x\\rightarrow \\pm \\infty }{\\longrightarrow } 2$\n",
    "\n",
    "**L'Hopital's Rule**\n",
    "\n",
    "The rule uses derivatives to evaluate limits of indeterminate forms such as $\\frac{0}{0}$ and $\\frac{\\infty}{\\infty}$\n",
    "\n",
    "If $f(x), g(x) \\to 0$ or $\\pm \\infty$ as $x \\to a$ and the functions are differentiable near $x = a$ then the limit:\n",
    "\n",
    "$\\lim\\limits_{x \\to a} \\frac{f(x)}{g(x)} = \\frac{f'(x)}{g'(x)}$ \n",
    "\n",
    "provided that the limit on the right hand exists or is $\\pm \\infty$\n",
    "\n",
    "The rule holds even when we replace $a$ with one-sided limits or with $\\pm \\infty$\n",
    "\n",
    "****"
   ]
  },
  {
   "cell_type": "markdown",
   "metadata": {},
   "source": [
    "# Basic code\n",
    "A `minimal, reproducible example`"
   ]
  },
  {
   "cell_type": "code",
   "execution_count": 9,
   "metadata": {},
   "outputs": [
    {
     "data": {
      "text/plain": [
       "-0.5000000000000004"
      ]
     },
     "execution_count": 9,
     "metadata": {},
     "output_type": "execute_result"
    }
   ],
   "source": [
    "import numpy as np\n",
    "np.cos(np.pi/3 + np.pi)"
   ]
  },
  {
   "cell_type": "code",
   "execution_count": 22,
   "metadata": {},
   "outputs": [
    {
     "data": {
      "text/plain": [
       "array([245, -75,   5,  21])"
      ]
     },
     "execution_count": 22,
     "metadata": {},
     "output_type": "execute_result"
    }
   ],
   "source": [
    "def g_prime(x):\n",
    "    return x**2 * (x + 6) * (x + 2)\n",
    "\n",
    "g_prime(np.array([-7, -5, -1, 1]))"
   ]
  }
 ],
 "metadata": {
  "kernelspec": {
   "display_name": "Python 3",
   "language": "python",
   "name": "python3"
  },
  "language_info": {
   "codemirror_mode": {
    "name": "ipython",
    "version": 3
   },
   "file_extension": ".py",
   "mimetype": "text/x-python",
   "name": "python",
   "nbconvert_exporter": "python",
   "pygments_lexer": "ipython3",
   "version": "3.8.8"
  },
  "toc": {
   "base_numbering": 1,
   "nav_menu": {},
   "number_sections": true,
   "sideBar": true,
   "skip_h1_title": false,
   "title_cell": "Table of Contents",
   "title_sidebar": "Contents",
   "toc_cell": false,
   "toc_position": {},
   "toc_section_display": true,
   "toc_window_display": false
  }
 },
 "nbformat": 4,
 "nbformat_minor": 2
}
