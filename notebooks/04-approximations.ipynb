{
 "cells": [
  {
   "cell_type": "markdown",
   "metadata": {},
   "source": [
    "# Approximations\n",
    "\n",
    "<hr>"
   ]
  },
  {
   "cell_type": "markdown",
   "metadata": {},
   "source": [
    "**Linear approximations of composed functions**<br>\n",
    "\n",
    "Recall that the linear approximation of a function $f(x)$ for $x$ near $x_0$ is given by the formula:\n",
    "\n",
    "$f(x) \\approx f(x_0) + f'(x_0)(x - x_0)$\n",
    "\n",
    "such that the linear approximation near $x = 0$ is given by $f(x) \\approx f(0) + f'(0) \\cdot x$\n",
    "\n",
    "*Examples of linear approximation near $x = 0$*\n",
    "\n",
    "- $\\lim \\limits_{x \\to 0} (1+x)^r \\approx (1+0)^r + r \\cdot (1+0)^{r-1} \\cdot x = 1 + rx$\n",
    "- $\\lim \\limits_{x \\to 0} \\sin (x) \\approx \\sin (0) + \\cos (0) \\cdot x = x$\n",
    "- $\\lim \\limits_{x \\to 0} \\cos (x) \\approx \\cos(0) - \\sin(0) \\cdot x = 1$\n",
    "- $\\lim \\limits_{x \\to 0} e^x \\approx e^0 + e^0 \\cdot x = 1 + x$\n",
    "- $\\lim \\limits_{x \\to 0} \\ln (1 + x) \\approx \\ln (1+0) + \\frac{1}{1+0} \\cdot x = x$\n",
    "\n",
    "*Example 0*\n",
    "\n",
    "$\\lim \\limits_{x \\to 0} \\sin(x) + \\ln (1 + x) \\approx x + x = 2x$\n",
    "\n",
    "$\\lim \\limits_{x \\to 0} 3e^x \\approx 3 \\cdot (1 + x)$\n",
    "\n",
    "*Example 1*\n",
    "\n",
    "$\\lim \\limits_{u \\to 1} \\ln (u)$\n",
    "\n",
    "Setting $u = 1 + x$ then $\\ln (u) = \\ln (1+x)$\n",
    "\n",
    "$\\ln (u) = \\ln (1 + x) \\approx x$\n",
    "\n",
    "*Example 2*\n",
    "\n",
    "$\\lim \\limits_{x \\to 0} (4 + \\sin x)^{3/2}$\n",
    "\n",
    "Factoring 4 out\n",
    "\n",
    "$= 4^{3/2} \\cdot (1 + \\frac{1}{4} \\sin x)^{3/2}$\n",
    "\n",
    "$= 8 \\cdot (1 + u)^{3/2}$ where $u = \\frac{1}{4} \\sin x$\n",
    "\n",
    "Using the linear approximation of $(1 + u)^r \\approx (1 + ru)$\n",
    "\n",
    "$= 8 \\cdot (1 + 3/2 \\cdot u)$\n",
    "\n",
    "$= 8 \\cdot (1 + 3/8 \\cdot \\sin x)$\n",
    "\n",
    "Taking a linear approximation of $\\sin x$\n",
    "\n",
    "$= 8 \\cdot (1 + 3/8 \\cdot x)$\n",
    "\n",
    "This leads us to a formal definition for **approximations (likely non-linear) of compositions**\n",
    "\n",
    "*Suppose that $g(x)$ is a function such that $g(0) = 0$. To find an approximation of a function $f(g(x))$ near $x = 0$, we can take a linear approximation of $f(u)$ and then substitute $g(x)$ in for $u$. The resulting approximation is likely nonlinear, but it is still an approximation. This only works if $g(0) = 0$*\n",
    "\n",
    "$f(u) \\approx f(0) + f'(0) \\cdot u \\rightarrow f(g(x)) \\approx f(g(0)) + f'(g(0)) \\cdot g(x)$\n",
    "\n",
    "\n",
    "<hr>\n",
    "\n",
    "**Linear approximation of products**\n",
    "\n",
    "If $h(x) = f(x) \\cdot g(x)$ then the linear approximation for $h(x)$ is just the product of the linear approximation of $f, g$ where we keep only linear terms, i.e. cancel all of the terms that are quadratic (or higher for more products)\n",
    "\n",
    "$h(x) = f(x) \\cdot g(x)$\n",
    "\n",
    "$f(x) \\approx f(0) + f'(0) \\cdot x$\n",
    "\n",
    "$g(x) \\approx g(0) + g'(0) \\cdot x$\n",
    "\n",
    "$h(x) \\approx (f(0) + f'(0) \\cdot x) \\cdot (g(0) + g'(0) \\cdot x)$\n",
    "\n",
    "$= \\displaystyle  f(0)g(0) + \\left(f'(0)g(0) +f(0)g'(0)\\right)x + f'(0)g'(0)x^2$\n",
    "\n",
    "$\\approx \\displaystyle  f(0)g(0) + \\left(f'(0)g(0) +f(0)g'(0)\\right)x$\n",
    "\n",
    "*Example*\n",
    "\n",
    "$h(x) = \\frac{e^{-3x}}{\\sqrt{1+x}} = e^{-3x} \\cdot (1+x)^{-\\frac{1}{2}}$\n",
    "\n",
    "$\\approx (1 - 3x) \\cdot (1 - \\frac{x}{2})$\n",
    "\n",
    "$= 1 - \\frac{1}{2}x - 3x + \\frac{3}{2}x^2$\n",
    "\n",
    "$\\approx 1 - \\frac{7}{2}x$\n",
    "\n",
    "<hr>"
   ]
  },
  {
   "cell_type": "markdown",
   "metadata": {},
   "source": [
    "# Basic code\n",
    "A `minimal, reproducible example`"
   ]
  },
  {
   "cell_type": "code",
   "execution_count": 1,
   "metadata": {},
   "outputs": [
    {
     "data": {
      "text/plain": [
       "0.0"
      ]
     },
     "execution_count": 1,
     "metadata": {},
     "output_type": "execute_result"
    }
   ],
   "source": [
    "import numpy as np\n",
    "\n",
    "np.sin(0)"
   ]
  },
  {
   "cell_type": "code",
   "execution_count": 8,
   "metadata": {},
   "outputs": [
    {
     "data": {
      "text/plain": [
       "-0.5235987755982988"
      ]
     },
     "execution_count": 8,
     "metadata": {},
     "output_type": "execute_result"
    }
   ],
   "source": []
  }
 ],
 "metadata": {
  "kernelspec": {
   "display_name": "Python 3",
   "language": "python",
   "name": "python3"
  },
  "language_info": {
   "codemirror_mode": {
    "name": "ipython",
    "version": 3
   },
   "file_extension": ".py",
   "mimetype": "text/x-python",
   "name": "python",
   "nbconvert_exporter": "python",
   "pygments_lexer": "ipython3",
   "version": "3.8.8"
  },
  "toc": {
   "base_numbering": 1,
   "nav_menu": {},
   "number_sections": true,
   "sideBar": true,
   "skip_h1_title": false,
   "title_cell": "Table of Contents",
   "title_sidebar": "Contents",
   "toc_cell": false,
   "toc_position": {},
   "toc_section_display": true,
   "toc_window_display": false
  }
 },
 "nbformat": 4,
 "nbformat_minor": 2
}
