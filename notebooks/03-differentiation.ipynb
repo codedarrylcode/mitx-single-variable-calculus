{
 "cells": [
  {
   "cell_type": "markdown",
   "metadata": {},
   "source": [
    "# Differentiation\n",
    "\n",
    "<hr>"
   ]
  },
  {
   "cell_type": "markdown",
   "metadata": {},
   "source": [
    "**Linear Approximation**<br>\n",
    "\n",
    "The tangent line at $x = a$ is a good linear approximation for the function near $x = a$\n",
    "\n",
    "For example, suppose $f(x) = \\sqrt{x}$, we can use derivatives to approximate $f(104)$, using the point $x = 100$ as the nearest approximation point.\n",
    "\n",
    "When $x = 100$, $f(100) = 10$ and $f'(100) = \\frac{1}{2 \\sqrt{100}} = \\frac{1}{20}$ which means that the slope of the tangent line at $x = 100$ is $\\frac{1}{20}$ and if we assume that the slope is a good approximation then $f(104)$ is essentially $f(100) + (104 - 100) \\cdot \\frac{1}{20} = 10 + \\frac{1}{5} \\approx 10.2$\n",
    "\n",
    "$\\therefore f(x) \\approx f'(a) (x - a) + f(a)$ for some $x$ near $a$\n",
    "\n",
    "How near is *near*?\n",
    "\n",
    "The second derivative tells us what direction and how fast the slope of the tangent changes. The larger the second derivative then the less accurate linear approximation will be.\n",
    "\n",
    "<img alt=\"Large Second Derivative\" src=\"assets/large_second_derivative.png\" width=\"300\">\n",
    "\n",
    "<img alt=\"Small Second Derivative\" src=\"assets/small_second_derivative.png\" width=\"300\">\n",
    "\n",
    "\n",
    "\n",
    "<hr>\n",
    "\n",
    "**Topic 2**\n",
    "\n",
    "\n",
    "<hr>"
   ]
  },
  {
   "cell_type": "markdown",
   "metadata": {},
   "source": [
    "# Basic code\n",
    "A `minimal, reproducible example`"
   ]
  },
  {
   "cell_type": "code",
   "execution_count": null,
   "metadata": {},
   "outputs": [],
   "source": []
  }
 ],
 "metadata": {
  "kernelspec": {
   "display_name": "Python 3",
   "language": "python",
   "name": "python3"
  },
  "language_info": {
   "codemirror_mode": {
    "name": "ipython",
    "version": 3
   },
   "file_extension": ".py",
   "mimetype": "text/x-python",
   "name": "python",
   "nbconvert_exporter": "python",
   "pygments_lexer": "ipython3",
   "version": "3.8.8"
  },
  "toc": {
   "base_numbering": 1,
   "nav_menu": {},
   "number_sections": true,
   "sideBar": true,
   "skip_h1_title": false,
   "title_cell": "Table of Contents",
   "title_sidebar": "Contents",
   "toc_cell": false,
   "toc_position": {},
   "toc_section_display": true,
   "toc_window_display": false
  }
 },
 "nbformat": 4,
 "nbformat_minor": 2
}
