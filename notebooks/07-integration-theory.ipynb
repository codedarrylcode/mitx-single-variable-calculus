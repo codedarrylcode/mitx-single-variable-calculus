{
 "cells": [
  {
   "cell_type": "markdown",
   "metadata": {},
   "source": [
    "# Integration Theory\n",
    "\n",
    "<hr>"
   ]
  },
  {
   "cell_type": "markdown",
   "metadata": {},
   "source": [
    "## The definite integral\n",
    "\n",
    "A geometric intepretation of the definite integral is to determine the area under a curve. Computationally, the definite integral is a cumulative sum of small rectangular areas from a point $a$ to $b$ under a function $f(x)$.\n",
    "\n",
    "$\\int_{a}^{b} f(x) \\cdot dx$ is the area under the graph of $f(x)$ between $a$ and $b$\n",
    "\n",
    "<img alt=\"Definite Integral\" src=\"assets/definite_integral.png\" width=\"300\">\n",
    "\n",
    "More precisely, the definite integral is equal to the area of the region above the x-axis, below the curve $y = f(x)$ and in between the two vertical lines $x = a$ and $x = b$ where the $x$-values $a$ and $b$ are called the lower and upper limits of the integral.\n",
    "\n",
    "Suppose a function, $y = 5$, which is a horizontal line. If we are interested in finding the area under the function from $1 \\to 4$ then the definite integral is as follows:\n",
    "\n",
    "$f(x) = 5$\n",
    "\n",
    "$\\int_{1}^{4} 5 \\cdot dx = 20 - 5 = 15$\n",
    "\n",
    "In general,\n",
    "\n",
    "- $\\int_{a}^{b} k \\cdot dx = k(b-a)$ (*area of rectangle*)\n",
    "- $\\int_{a}^{b} x \\cdot dx = \\frac{b^2-a^2}{2}$ (*area of trapezoid*)\n",
    "- $\\int_{a}^{b} f(x) \\cdot dx + \\int_{b}^{c} f(x) \\cdot dx = \\int_{a}^{c} f(x) \\cdot dx$\n",
    "- Suppose $f(x)$ is an even (*symmetric*) function, i.e. $f(-x) = f(x)$, and $b > 0$, then $\\int_{-b}^{0} f(x) \\cdot dx = \\int_{0}^{b} f(x) \\cdot dx$\n",
    "\n",
    "<img alt=\"Sum of Integrals\" src=\"assets/sum_of_integrals.png\" width=\"300\">\n",
    "\n",
    "*Example*\n",
    "\n",
    "$f(x) = \\sqrt{9-x^2}$\n",
    "\n",
    "$\\int_{-3}^{3} \\sqrt{9-x^2} \\cdot dx = \\text{Area of the semicircle} = \\frac{1}{2}\\pi(3)^2 = \\frac{9\\pi}{2}$\n",
    "\n",
    "$\\int_{0}^{3} \\sqrt{9-x^2} \\cdot dx = \\text{Area of the quadrant} = \\frac{1}{4}\\pi(3)^2 = \\frac{9\\pi}{4}$\n",
    "\n",
    "<img alt=\"Area of semicircle\" src=\"assets/area_of_semicircle.png\" width=\"300\">\n",
    "\n",
    "****\n",
    "\n",
    "**Finding the area under a function**\n",
    "\n",
    "The main idea is that the region under a curve is not a simple shape whose area have a formula for. In this case, we will start with an approximation of the area.\n",
    "\n",
    "In general, to compute the area under a function, the definite integral does the following in an abstract sense:\n",
    "\n",
    "1. Divide into *rectangles*\n",
    "2. Sum up the areas\n",
    "3. Take the limit as the width of the *rectangles* get *thin*, i.e. $\\lim\\limits_{x \\to 0}$\n",
    "\n",
    "<img alt=\"Area under the curve\" src=\"assets/area_under_the_curve.png\" width=\"300\">\n",
    "\n",
    "****\n",
    "\n",
    "**Riemann sum**\n",
    "\n",
    "The Riemann sum is essentially the procedure of aggregating the areas of each infinitely small rectangle under a function and evaluates to the $\\int_{a}^{b} f(x) \\cdot dx$\n",
    "\n",
    "1. Divide $[a, b]$ into $n$ equal sub-intervals such that $\\Delta x = \\frac{b-a}{n}$ and the $i^{th}$ sub-interval is the base of the $i^{th}$ rectangle\n",
    "\n",
    "<img alt=\"Riemann Sum 1\" src=\"assets/riemann_sum_1.png\" width=\"300\">\n",
    "\n",
    "2. Choose a point $c_i$ within the $i^{th}$ sub-interval. Choose $f(c_i)$ be the height of the $i^{th}$ rectangle\n",
    "\n",
    "<img alt=\"Riemann Sum 2\" src=\"assets/riemann_sum_2.png\" width=\"300\">\n",
    "\n",
    "3. Adding up the areas of the $n$ rectangles gives us:\n",
    "\n",
    "<img alt=\"Riemann Sum 3\" src=\"assets/riemann_sum_3.png\" width=\"600\">\n",
    "\n",
    "4. Take the limit as the rectangle becomes infinitely small such that $\\Delta x \\to 0$, or equivalently $n \\to \\infty$, then this limit is the actual area under the curve between $a$ and $b$\n",
    "\n",
    "    $\\lim _{n\\rightarrow \\infty }\\,  \\sum _{i=1}^{n} \\, f(c_i) \\Delta x\\  =\\  \\int _a^b f(x) \\, dx$\n",
    "\n",
    "\n",
    "The sum of the areas of the $n$ rectangles, $\\sum _{i=1}^{n} f(c_i) \\Delta x$, is called the **Riemann Sum**. If we pick $c_i$ to the left/right endpoint, then it is called a left/right Riemann Sum respectively.\n",
    "\n",
    "However, in the limit $n \\to \\infty$, this distinction is no longer needed. The limit of any Riemann Sum, no matter what the $c_i$'s are, is equal to the exact area under the curve.\n",
    "\n",
    "****\n",
    "\n",
    "## Topic 2\n",
    "\n",
    "<img alt=\"This is some image\" src=\"assets/some_image.png\" width=\"400\">\n",
    "\n",
    "****"
   ]
  },
  {
   "cell_type": "markdown",
   "metadata": {},
   "source": [
    "# Basic code\n",
    "A `minimal, reproducible example`"
   ]
  },
  {
   "cell_type": "code",
   "execution_count": 11,
   "metadata": {
    "ExecuteTime": {
     "end_time": "2022-02-18T08:44:43.278116Z",
     "start_time": "2022-02-18T08:44:43.268922Z"
    }
   },
   "outputs": [
    {
     "data": {
      "text/plain": [
       "5.203125"
      ]
     },
     "execution_count": 11,
     "metadata": {},
     "output_type": "execute_result"
    }
   ],
   "source": [
    "# Estimate the definite integral, x^3, from 0 to 1 using Riemann Sum\n",
    "import numpy as np\n",
    "\n",
    "f = lambda x: x**3\n",
    "rrs = np.array([.25, .5, .75, 1])\n",
    "lrs = np.array([0, .25, .5, .75])\n",
    "\n",
    "sum(f(lrs)*1/4)"
   ]
  },
  {
   "cell_type": "code",
   "execution_count": 12,
   "metadata": {
    "ExecuteTime": {
     "end_time": "2022-02-18T08:52:10.651584Z",
     "start_time": "2022-02-18T08:52:10.643905Z"
    }
   },
   "outputs": [
    {
     "data": {
      "text/plain": [
       "5.806678390593273"
      ]
     },
     "execution_count": 12,
     "metadata": {},
     "output_type": "execute_result"
    }
   ],
   "source": [
    "# Estimate the definite integral with Left Riemann Sum\n",
    "\n",
    "f = lambda x: np.sin(np.pi * x) + 37*x**3\n",
    "lrs = np.array([0, .25, .5, .75])\n",
    "\n",
    "sum(f(lrs)*1/4)"
   ]
  }
 ],
 "metadata": {
  "kernelspec": {
   "display_name": "Python 3",
   "language": "python",
   "name": "python3"
  },
  "language_info": {
   "codemirror_mode": {
    "name": "ipython",
    "version": 3
   },
   "file_extension": ".py",
   "mimetype": "text/x-python",
   "name": "python",
   "nbconvert_exporter": "python",
   "pygments_lexer": "ipython3",
   "version": "3.7.4"
  },
  "toc": {
   "base_numbering": 1,
   "nav_menu": {},
   "number_sections": true,
   "sideBar": true,
   "skip_h1_title": false,
   "title_cell": "Table of Contents",
   "title_sidebar": "Contents",
   "toc_cell": false,
   "toc_position": {},
   "toc_section_display": true,
   "toc_window_display": false
  }
 },
 "nbformat": 4,
 "nbformat_minor": 2
}
